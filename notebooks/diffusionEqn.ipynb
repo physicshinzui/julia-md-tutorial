{
 "cells": [
  {
   "cell_type": "markdown",
   "metadata": {},
   "source": [
    "# Partial Differential Equation: Diffusion equation\n",
    "This notebook describes how to solve a partial differential equation in Julia :) As an example, I treat the diffusion equation:\n",
    "\n",
    "\\begin{align}\n",
    "\\label{eq2}\n",
    "\\frac{\\partial \\phi }{\\partial t} = D \\left( \\frac{\\partial \\phi}{\\partial x_1} + \\frac{\\partial \\phi}{\\partial x_2} \\right)\n",
    "\\end{align}\n",
    "\n",
    ", where $\\phi$ is a function of $x_1$, $x_2$, and $t$, D is a positive constant (e.g. also called diffusion constant or thermal conductivitu), $t$ is time, and $x_1$ and $x_2$ are 2D Cartetian coordinates. \n",
    "\n",
    "Here, I want to solve this equation numerically. For this, I need to descritize the equation. As always, I use Tayler expansion to get the relation between the future and the adjacent past: \n",
    "\n",
    "\\begin{align}\n",
    "\\phi^{n+1}_{ij} = \\phi^n_{ij} + \\left.\\frac{\\partial \\phi^n_{ij}}{\\partial t} \\right|^n_{ij} \\Delta t + \\left.\\frac{1}{2}\\frac{\\partial \\phi^n_{ij}}{\\partial t} \\right|^n_{ij} \\Delta t^2 + O(\\Delta t^3)\n",
    "\\end{align}\n"
   ]
  },
  {
   "cell_type": "code",
   "execution_count": null,
   "metadata": {},
   "outputs": [],
   "source": []
  }
 ],
 "metadata": {
  "kernelspec": {
   "display_name": "Julia 1.6.0",
   "language": "julia",
   "name": "julia-1.6"
  },
  "language_info": {
   "file_extension": ".jl",
   "mimetype": "application/julia",
   "name": "julia",
   "version": "1.6.0"
  }
 },
 "nbformat": 4,
 "nbformat_minor": 4
}
